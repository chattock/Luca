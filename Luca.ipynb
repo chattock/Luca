{
 "cells": [
  {
   "cell_type": "code",
   "execution_count": 1,
   "metadata": {},
   "outputs": [
    {
     "name": "stdout",
     "output_type": "stream",
     "text": [
      "All files have been unzipped to unzipped/\n"
     ]
    }
   ],
   "source": [
    "import gzip\n",
    "import shutil\n",
    "import os\n",
    "\n",
    "# Define the directory containing the .gz files\n",
    "input_dir = 'eebo/'\n",
    "\n",
    "# Define the directory where you want to save the unzipped files\n",
    "output_dir = 'unzipped/'\n",
    "\n",
    "# Create the output directory if it doesn't exist\n",
    "os.makedirs(output_dir, exist_ok=True)\n",
    "\n",
    "def unzip_file(input_path, output_path):\n",
    "    with gzip.open(input_path, 'rb') as f_in:\n",
    "        with open(output_path, 'wb') as f_out:\n",
    "            shutil.copyfileobj(f_in, f_out)\n",
    "\n",
    "# Iterate over all files in the input directory\n",
    "for filename in os.listdir(input_dir):\n",
    "    if filename.endswith('.gz'):\n",
    "        input_path = os.path.join(input_dir, filename)\n",
    "        output_filename = filename[:-3]  # Remove the .gz extension\n",
    "        output_path = os.path.join(output_dir, output_filename)\n",
    "        \n",
    "        # Unzip the file\n",
    "        unzip_file(input_path, output_path)\n",
    "\n",
    "print(f\"All files have been unzipped to {output_dir}\")"
   ]
  },
  {
   "cell_type": "code",
   "execution_count": 2,
   "metadata": {},
   "outputs": [
    {
     "name": "stdout",
     "output_type": "stream",
     "text": [
      "All files have been combined into combined/ALL.xml\n"
     ]
    }
   ],
   "source": [
    "import os\n",
    "\n",
    "# Define input and output directories\n",
    "input_dir = 'unzipped/'\n",
    "output_dir = 'combined/'\n",
    "output_file = 'ALL.xml'\n",
    "\n",
    "# Create the output directory if it doesn't exist\n",
    "os.makedirs(output_dir, exist_ok=True)\n",
    "\n",
    "# Start the combined file with the root XML element\n",
    "with open(os.path.join(output_dir, output_file), 'w', encoding='utf-8') as outfile:\n",
    "    outfile.write('<?xml version=\"1.0\" encoding=\"utf-8\"?>\\n')\n",
    "    outfile.write('<ALL>\\n')\n",
    "\n",
    "    # Iterate over each unzipped file\n",
    "    for filename in os.listdir(input_dir):\n",
    "        if filename.endswith('.xml'):\n",
    "            file_path = os.path.join(input_dir, filename)\n",
    "            \n",
    "            # Open and read each XML file\n",
    "            with open(file_path, 'r', encoding='utf-8') as infile:\n",
    "                content = infile.read()\n",
    "                \n",
    "                # Find the start of the <ETS> tag and extract everything until the end\n",
    "                start_index = content.find('<ETS>')\n",
    "                end_index = content.rfind('</ETS>') + len('</ETS>')\n",
    "\n",
    "                if start_index != -1 and end_index != -1:\n",
    "                    # Write the extracted content to the output file\n",
    "                    outfile.write(content[start_index:end_index] + '\\n')\n",
    "\n",
    "    # Close the root element\n",
    "    outfile.write('</ALL>\\n')\n",
    "\n",
    "print(f\"All files have been combined into {os.path.join(output_dir, output_file)}\")"
   ]
  },
  {
   "cell_type": "code",
   "execution_count": null,
   "metadata": {},
   "outputs": [],
   "source": []
  }
 ],
 "metadata": {
  "kernelspec": {
   "display_name": "base",
   "language": "python",
   "name": "python3"
  },
  "language_info": {
   "codemirror_mode": {
    "name": "ipython",
    "version": 3
   },
   "file_extension": ".py",
   "mimetype": "text/x-python",
   "name": "python",
   "nbconvert_exporter": "python",
   "pygments_lexer": "ipython3",
   "version": "3.11.7"
  }
 },
 "nbformat": 4,
 "nbformat_minor": 2
}
